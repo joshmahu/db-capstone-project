{
 "cells": [
  {
   "cell_type": "code",
   "execution_count": 1,
   "id": "e1e2480d",
   "metadata": {},
   "outputs": [
    {
     "name": "stdout",
     "output_type": "stream",
     "text": [
      "Requirement already satisfied: mysql-connector-python in c:\\users\\joshua.mahurien\\anaconda3\\lib\\site-packages (8.0.33)\n",
      "Requirement already satisfied: protobuf<=3.20.3,>=3.11.0 in c:\\users\\joshua.mahurien\\anaconda3\\lib\\site-packages (from mysql-connector-python) (3.19.5)\n"
     ]
    }
   ],
   "source": [
    "!pip install mysql-connector-python"
   ]
  },
  {
   "cell_type": "code",
   "execution_count": 2,
   "id": "fd068b04",
   "metadata": {},
   "outputs": [],
   "source": [
    "import mysql.connector as connector"
   ]
  },
  {
   "cell_type": "code",
   "execution_count": 21,
   "id": "651327fd",
   "metadata": {},
   "outputs": [],
   "source": [
    "connection = connector.connect(username='jmahurien',password='wonderful')"
   ]
  },
  {
   "cell_type": "code",
   "execution_count": 25,
   "id": "a9a0a1bb",
   "metadata": {},
   "outputs": [],
   "source": [
    "cursor = connection.cursor()\n",
    "cursor.execute('''\n",
    "USE littlelemondb;''')\n",
    "cursor.execute('SHOW tables;')\n",
    "dataset = cursor.fetchall()"
   ]
  },
  {
   "cell_type": "code",
   "execution_count": 27,
   "id": "555fc3e8",
   "metadata": {},
   "outputs": [
    {
     "name": "stdout",
     "output_type": "stream",
     "text": [
      "bookings\n",
      "customers\n",
      "customersview\n",
      "deliveries\n",
      "itemsview\n",
      "menu\n",
      "menuitems\n",
      "orders\n",
      "ordersview\n",
      "staff\n"
     ]
    }
   ],
   "source": [
    "for table in dataset:\n",
    "    print(table[0])"
   ]
  },
  {
   "cell_type": "code",
   "execution_count": 28,
   "id": "42326001",
   "metadata": {},
   "outputs": [],
   "source": [
    "query_string = '''\n",
    "SELECT customers.Name, customers.Contact, orders.TotalCost\n",
    "FROM customers\n",
    "JOIN orders\n",
    "WHERE orders.TotalCost >= 60;'''\n",
    "\n",
    "cursor.execute(query_string)"
   ]
  },
  {
   "cell_type": "code",
   "execution_count": null,
   "id": "613e7daf",
   "metadata": {},
   "outputs": [],
   "source": []
  }
 ],
 "metadata": {
  "kernelspec": {
   "display_name": "Python 3 (ipykernel)",
   "language": "python",
   "name": "python3"
  },
  "language_info": {
   "codemirror_mode": {
    "name": "ipython",
    "version": 3
   },
   "file_extension": ".py",
   "mimetype": "text/x-python",
   "name": "python",
   "nbconvert_exporter": "python",
   "pygments_lexer": "ipython3",
   "version": "3.9.7"
  }
 },
 "nbformat": 4,
 "nbformat_minor": 5
}
